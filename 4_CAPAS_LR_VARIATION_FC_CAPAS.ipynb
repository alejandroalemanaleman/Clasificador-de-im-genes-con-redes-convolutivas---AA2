{
 "cells": [
  {
   "cell_type": "code",
   "execution_count": null,
   "metadata": {
    "colab": {
     "base_uri": "https://localhost:8080/"
    },
    "id": "dFQjVOGtimkd",
    "outputId": "0a8c0a37-c89b-4061-de28-df0caeba5e6c"
   },
   "outputs": [
    {
     "name": "stdout",
     "output_type": "stream",
     "text": [
      "Drive already mounted at /content/drive; to attempt to forcibly remount, call drive.mount(\"/content/drive\", force_remount=True).\n"
     ]
    }
   ],
   "source": [
    "from google.colab import drive\n",
    "drive.mount('/content/drive')"
   ]
  },
  {
   "cell_type": "code",
   "execution_count": null,
   "metadata": {
    "colab": {
     "base_uri": "https://localhost:8080/"
    },
    "id": "c7bD1zLDjgsa",
    "outputId": "d7fdf0c0-4c35-438c-cd35-0ba92567368e"
   },
   "outputs": [
    {
     "name": "stdout",
     "output_type": "stream",
     "text": [
      "/content/drive/MyDrive/AA II/NUEVO (1)\n"
     ]
    }
   ],
   "source": [
    "import os\n",
    "%cd /content/drive/MyDrive/Universidad/Aprendizaje Automático II/Práctica/Trabajos/FINAL/IMAGENES"
   ]
  },
  {
   "cell_type": "code",
   "metadata": {
    "id": "yjY0jYnmdBPe",
    "ExecuteTime": {
     "end_time": "2024-12-23T11:02:59.921194Z",
     "start_time": "2024-12-23T11:02:58.215381Z"
    }
   },
   "source": [
    "import torch\n",
    "import torchvision.transforms as transforms\n",
    "from torchvision.datasets import ImageFolder\n",
    "from torch.utils.data import DataLoader\n",
    "import matplotlib.pyplot as plt\n",
    "import numpy as np\n",
    "import seaborn as sns\n",
    "from sklearn.metrics import classification_report, confusion_matrix\n",
    "\n",
    "# Definir transformaciones para los datos de entrenamiento y validación\n",
    "transformaciones = transforms.Compose([\n",
    "    transforms.Resize((100, 100)),  # Redimensionar las imágenes\n",
    "    transforms.ToTensor()  # Convertir las imágenes a tensores\n",
    "])\n",
    "\n",
    "# Cargar los datos de entrenamiento y validación\n",
    "dataset_entrenamiento = ImageFolder(root='/Users/alejandroalemanaleman/Downloads/AA2 - trabajo 1/train', transform=transformaciones)\n",
    "dataset_validacion = ImageFolder(root='/Users/alejandroalemanaleman/Downloads/AA2 - trabajo 1/validation', transform=transformaciones)\n",
    "dataset_test = ImageFolder(root='/Users/alejandroalemanaleman/Downloads/AA2 - trabajo 1/test', transform=transformaciones)"
   ],
   "outputs": [],
   "execution_count": 1
  },
  {
   "cell_type": "code",
   "metadata": {
    "colab": {
     "base_uri": "https://localhost:8080/",
     "height": 36
    },
    "id": "VCmFditwfDJc",
    "outputId": "8a04f619-0b19-43b4-bfa9-e4cff5c14f08",
    "ExecuteTime": {
     "end_time": "2024-12-23T11:04:50.699538Z",
     "start_time": "2024-12-23T11:04:50.693032Z"
    }
   },
   "source": [
    "import copy\n",
    "\n",
    "class EarlyStopping:\n",
    "    def __init__(self, patience=5, delta=0):\n",
    "        self.patience = patience\n",
    "        self.delta = delta\n",
    "        self.counter = 0\n",
    "        self.best_score = None\n",
    "        self.early_stop = False\n",
    "        self.best_model_wts = None\n",
    "\n",
    "    def __call__(self, val_loss, model):\n",
    "        score = -val_loss\n",
    "\n",
    "        if self.best_score is None:\n",
    "            self.best_score = score\n",
    "            self.best_model_wts = copy.deepcopy(model.state_dict())\n",
    "\n",
    "        elif score < self.best_score + self.delta:\n",
    "            self.counter += 1\n",
    "            if self.counter >= self.patience:\n",
    "                self.early_stop = True\n",
    "\n",
    "        else:\n",
    "            self.best_score = score\n",
    "            self.best_model_wts = copy.deepcopy(model.state_dict())\n",
    "            self.counter = 0"
   ],
   "outputs": [],
   "execution_count": 2
  },
  {
   "cell_type": "code",
   "metadata": {
    "id": "EwDVL1p-t5Lo",
    "ExecuteTime": {
     "end_time": "2024-12-23T11:04:52.988191Z",
     "start_time": "2024-12-23T11:04:52.979887Z"
    }
   },
   "source": [
    "import torch.nn as nn\n",
    "import torch.nn.functional as F\n",
    "\n",
    "class ConvNet(nn.Module):\n",
    "    def __init__(self):\n",
    "        super(ConvNet, self).__init__()\n",
    "\n",
    "        # Capas convolucionales\n",
    "        self.conv1 = nn.Conv2d(in_channels=3, out_channels=16, kernel_size=5, stride=1, padding=2)\n",
    "        self.conv2 = nn.Conv2d(in_channels=16, out_channels=32, kernel_size=5, stride=1, padding=2)\n",
    "        self.conv3 = nn.Conv2d(in_channels=32, out_channels=64, kernel_size=5, stride=1, padding=2)\n",
    "        self.conv4 = nn.Conv2d(in_channels=64, out_channels=128, kernel_size=3, stride=1, padding=1)  # Nueva capa convolucional\n",
    "\n",
    "        # Batch Normalization para cada capa convolucional\n",
    "        self.bn1 = nn.BatchNorm2d(num_features=16)\n",
    "        self.bn2 = nn.BatchNorm2d(num_features=32)\n",
    "        self.bn3 = nn.BatchNorm2d(num_features=64)\n",
    "        self.bn4 = nn.BatchNorm2d(num_features=128)  # Normalización para la nueva capa\n",
    "\n",
    "        # MaxPooling y Dropout\n",
    "        self.pool = nn.MaxPool2d(kernel_size=2, stride=2, padding=0)\n",
    "        self.dropout_conv = nn.Dropout(p=0.25)  # Dropout para capas convolucionales\n",
    "        self.dropout_fc = nn.Dropout(p=0.5)  # Dropout para capas densas\n",
    "\n",
    "        # Capas completamente conectadas\n",
    "        self.fc1 = nn.Linear(128 * 6 * 6, 256)  # Ajuste del tamaño según salida de la última capa convolucional\n",
    "        self.fc2 = nn.Linear(256, 128)\n",
    "        self.fc3 = nn.Linear(128, 64)\n",
    "        self.fc4 = nn.Linear(64, 32)\n",
    "        self.fc5 = nn.Linear(32, 7)  # Salida para 7 clases\n",
    "\n",
    "        # Batch Normalization para capas densas\n",
    "        self.fc_bn1 = nn.BatchNorm1d(256)\n",
    "        self.fc_bn2 = nn.BatchNorm1d(128)\n",
    "        self.fc_bn3 = nn.BatchNorm1d(64)\n",
    "        self.fc_bn4 = nn.BatchNorm1d(32)\n",
    "\n",
    "    def forward(self, x):\n",
    "        # Pasos convolucionales con activación, normalización y pooling\n",
    "        x = self.pool(F.relu(self.bn1(self.conv1(x))))\n",
    "        x = self.dropout_conv(x)\n",
    "\n",
    "        x = self.pool(F.relu(self.bn2(self.conv2(x))))\n",
    "        x = self.dropout_conv(x)\n",
    "\n",
    "        x = self.pool(F.relu(self.bn3(self.conv3(x))))\n",
    "        x = self.dropout_conv(x)\n",
    "\n",
    "        x = self.pool(F.relu(self.bn4(self.conv4(x))))  # Nueva capa convolucional\n",
    "        x = self.dropout_conv(x)\n",
    "\n",
    "        # Aplanar para pasar a capas densas\n",
    "        x = x.view(-1, 128 * 6 * 6)\n",
    "\n",
    "        # Pasos densos con activación, normalización y dropout\n",
    "        x = F.relu(self.fc_bn1(self.fc1(x)))\n",
    "        x = self.dropout_fc(x)\n",
    "\n",
    "        x = F.relu(self.fc_bn2(self.fc2(x)))\n",
    "        x = self.dropout_fc(x)\n",
    "\n",
    "        x = F.relu(self.fc_bn3(self.fc3(x)))\n",
    "        x = self.dropout_fc(x)\n",
    "\n",
    "        x = F.relu(self.fc_bn4(self.fc4(x)))\n",
    "        x = self.dropout_fc(x)\n",
    "\n",
    "        x = self.fc5(x)  # Sin activación final porque CrossEntropyLoss la incluye\n",
    "        return x\n"
   ],
   "outputs": [],
   "execution_count": 3
  },
  {
   "cell_type": "code",
   "source": [
    "def graficar_perdida_entrenamiento_validacion(lr, batch_size, epochs, valores_perdida, exactitud_entrenamiento, exactitud_validacion):\n",
    "    # Crear una figura con dos subgráficos en una fila\n",
    "    fig, ax = plt.subplots(1, 2, figsize=(12, 5))\n",
    "\n",
    "    # Graficar la función de pérdida en el primer subgráfico\n",
    "    ax[0].plot(valores_perdida, label='Pérdida')\n",
    "    ax[0].set_xlabel('Épocas')\n",
    "    ax[0].set_ylabel('Pérdida')\n",
    "    ax[0].set_title(f'Función de Pérdida\\n LR: {lr} Batch Size: {batch_size}')\n",
    "    ax[0].legend()\n",
    "\n",
    "    # Graficar las exactitudes en el segundo subgráfico\n",
    "    ax[1].plot(exactitud_entrenamiento, label='Exactitud de Entrenamiento')\n",
    "    ax[1].plot(exactitud_validacion, label='Exactitud de Validación')\n",
    "    ax[1].set_xlabel('Épocas')\n",
    "    ax[1].set_ylabel('Exactitud')\n",
    "    ax[1].set_title(f'Exactitud de Entrenamiento y Validación\\n LR: {lr} Batch Size: {batch_size}')\n",
    "    ax[1].legend()\n",
    "\n",
    "    # Ajustar espaciado entre los gráficos\n",
    "    plt.tight_layout()\n",
    "\n",
    "    # Mostrar los gráficos\n",
    "    plt.show()"
   ],
   "metadata": {
    "id": "mmBSWspIct4A",
    "ExecuteTime": {
     "end_time": "2024-12-23T11:04:55.311443Z",
     "start_time": "2024-12-23T11:04:55.305231Z"
    }
   },
   "outputs": [],
   "execution_count": 4
  },
  {
   "cell_type": "code",
   "source": [
    "def calcular_exactitud_test(modelo, dataloader_test, device):\n",
    "    correctas = 0\n",
    "    total = 0\n",
    "    with torch.no_grad():\n",
    "        modelo.eval()\n",
    "\n",
    "        for images, labels in dataloader_test:\n",
    "            images, labels = images.to(device), labels.to(device)\n",
    "            outputs = modelo(images)\n",
    "            _, predicted = torch.max(outputs.data,1)\n",
    "            total += labels.size(0)\n",
    "            correctas += (predicted == labels).sum().item()\n",
    "        #print(f'Exactitud de el modelo con las {total} imágenes de test: {100*correctas/total}%')\n",
    "    return 100*correctas/total"
   ],
   "metadata": {
    "id": "C2UfkvUPcrvS",
    "ExecuteTime": {
     "end_time": "2024-12-23T11:04:57.295249Z",
     "start_time": "2024-12-23T11:04:57.288519Z"
    }
   },
   "outputs": [],
   "execution_count": 5
  },
  {
   "cell_type": "code",
   "source": [
    "def matriz_de_confusion(modelo, dataloader_test, device):\n",
    "\n",
    "    modelo.eval()\n",
    "\n",
    "    # Inicializar listas para etiquetas reales y predicciones\n",
    "    predicciones_totales = []\n",
    "    etiquetas_reales_totales = []\n",
    "\n",
    "    # Verificar que el dataloader_test tiene datos\n",
    "    if len(dataloader_test.dataset) == 0:\n",
    "        print(\"El conjunto de test está vacío. Verifica los datos.\")\n",
    "    else:\n",
    "        # Bucle para obtener predicciones\n",
    "        with torch.no_grad():\n",
    "            for imagenes, etiquetas in dataloader_test:\n",
    "                imagenes, etiquetas = imagenes.to(device), etiquetas.to(device)\n",
    "                salidas = modelo(imagenes)\n",
    "                _, predicciones = torch.max(salidas, 1)\n",
    "                predicciones_totales.extend(predicciones.cpu().numpy())\n",
    "                etiquetas_reales_totales.extend(etiquetas.cpu().numpy())\n",
    "\n",
    "    # Comprobar si se obtuvieron predicciones\n",
    "    if len(etiquetas_reales_totales) > 0 and len(predicciones_totales) > 0:\n",
    "        # Imprimir el reporte de clasificación\n",
    "        print(\"Reporte de clasificación:\")\n",
    "        print(classification_report(etiquetas_reales_totales, predicciones_totales, digits=4))\n",
    "\n",
    "        # Crear la matriz de confusión\n",
    "        etiquetas_unicas = sorted(set(etiquetas_reales_totales))  # Identificar las clases presentes\n",
    "        matriz_confusion_test = confusion_matrix(etiquetas_reales_totales, predicciones_totales, labels=etiquetas_unicas)\n",
    "\n",
    "        # Visualizar la matriz de confusión\n",
    "        plt.figure(figsize=(10, 8))\n",
    "        sns.heatmap(matriz_confusion_test, annot=True, fmt='d', cmap='Blues', xticklabels=etiquetas_unicas, yticklabels=etiquetas_unicas)\n",
    "        plt.xlabel('Predicciones')\n",
    "        plt.ylabel('Etiquetas Reales')\n",
    "        plt.title('Matriz de Confusión del Conjunto de Test')\n",
    "        plt.show()\n",
    "\n",
    "        # Mostrar las clases presentes\n",
    "        clases_presentes = set(etiquetas_reales_totales)\n",
    "        print(f\"Clases presentes en el conjunto de test: {clases_presentes}\")\n",
    "    else:\n",
    "        print(\"No se encontraron datos válidos para generar predicciones o etiquetas.\")"
   ],
   "metadata": {
    "id": "SlJpMk37cpak",
    "ExecuteTime": {
     "end_time": "2024-12-23T11:04:59.111222Z",
     "start_time": "2024-12-23T11:04:59.106771Z"
    }
   },
   "outputs": [],
   "execution_count": 6
  },
  {
   "cell_type": "code",
   "source": [
    "from torch.optim.lr_scheduler import StepLR\n",
    "import torch.optim as optim\n",
    "from itertools import product\n",
    "\n",
    "learning_rates = [0.005, 0.001, 0.0005, 0.0001, 0.00005, 0.00001]\n",
    "batch_sizes = [32, 64]\n",
    "epochs_list = [15, 30]\n",
    "\n",
    "resultados = []\n",
    "modelos = {}\n",
    "\n",
    "for lr, batch_size, epochs in product(learning_rates, batch_sizes, epochs_list):\n",
    "\n",
    "    # Crear DataLoaders para los datos de entrenamiento, validación y test\n",
    "    dataloader_entrenamiento = DataLoader(dataset_entrenamiento, batch_size=batch_size, shuffle=True)\n",
    "    dataloader_validacion = DataLoader(dataset_validacion, batch_size=batch_size, shuffle=False)\n",
    "    dataloader_test = DataLoader(dataset_test, batch_size=batch_size, shuffle=False)\n",
    "\n",
    "    device = 'cuda' if torch.cuda.is_available() else 'cpu'\n",
    "    modelo = ConvNet().to(device)\n",
    "    criterio = nn.CrossEntropyLoss()\n",
    "    optimizador = optim.Adam(modelo.parameters(), lr=lr)\n",
    "    scheduler = StepLR(optimizador, step_size=10, gamma=0.5)\n",
    "\n",
    "    combinacion = (lr, batch_size, epochs)\n",
    "    print(f\"\\nEntrenando con lr={lr}, batch_size={batch_size}, epochs={epochs}\")\n",
    "\n",
    "    modelos[combinacion] = modelo\n",
    "\n",
    "    valores_perdida = []\n",
    "    exactitud_entrenamiento = []\n",
    "    exactitud_validacion = []\n",
    "\n",
    "    early_stopping = EarlyStopping(patience=5, delta=0.01)\n",
    "\n",
    "    for epoca in range(epochs):\n",
    "        modelos[combinacion].train()\n",
    "        running_loss = 0.0\n",
    "        for images, labels in dataloader_entrenamiento:\n",
    "            images, labels = images.to(device), labels.to(device)\n",
    "            outputs = modelos[combinacion](images)\n",
    "            loss = criterio(outputs, labels)\n",
    "            loss.backward()\n",
    "            optimizador.step()\n",
    "            optimizador.zero_grad()\n",
    "            running_loss += loss.item()\n",
    "\n",
    "        valores_perdida.append(running_loss / len(dataloader_entrenamiento))\n",
    "\n",
    "        with torch.no_grad():\n",
    "            modelos[combinacion].eval()\n",
    "\n",
    "            # Calcular exactitud de entrenamiento\n",
    "            correctas = 0\n",
    "            total = 0\n",
    "            for images, labels in dataloader_entrenamiento:\n",
    "                images, labels = images.to(device), labels.to(device)\n",
    "                outputs = modelos[combinacion](images)\n",
    "                _, predicted = torch.max(outputs.data, 1)\n",
    "                total += labels.size(0)\n",
    "                correctas += (predicted == labels).sum().item()\n",
    "            exactitud_entrenamiento.append(100 * correctas / total)\n",
    "\n",
    "            # Calcular exactitud de validación\n",
    "            correctas = 0\n",
    "            total = 0\n",
    "            for images, labels in dataloader_validacion:\n",
    "                images, labels = images.to(device), labels.to(device)\n",
    "                outputs = modelos[combinacion](images)\n",
    "                _, predicted = torch.max(outputs.data, 1)\n",
    "                total += labels.size(0)\n",
    "                correctas += (predicted == labels).sum().item()\n",
    "            exactitud_validacion.append(100 * correctas / total)\n",
    "        \n",
    "        scheduler.step()\n",
    "        \n",
    "        # Early stopping\n",
    "        val_loss = valores_perdida[-1]  # Usamos la pérdida más reciente\n",
    "        early_stopping(val_loss, modelo)\n",
    "\n",
    "        # Verifica si se activa la parada anticipada\n",
    "        if early_stopping.early_stop:\n",
    "            print(\"Parada anticipada activada\")\n",
    "            modelo.load_state_dict(early_stopping.best_model_wts)  # Cargar los mejores pesos\n",
    "            break\n",
    "\n",
    "        # Imprimir métricas de la época\n",
    "        print(f'    Época {epoca+1}, pérdida: {val_loss:.4f}, exactitud entrenamiento: {exactitud_entrenamiento[-1]:.2f}%, exactitud validación: {exactitud_validacion[-1]:.2f}%')\n",
    "        \n",
    "        for param_group in optimizador.param_groups:\n",
    "            print(f\"Learning rate actual: {param_group['lr']:.6f}\")\n",
    "\n",
    "    graficar_perdida_entrenamiento_validacion(lr, batch_size, epochs, valores_perdida, exactitud_entrenamiento, exactitud_validacion)\n",
    "    resultados.append((lr, batch_size, epochs, exactitud_validacion[-1]))\n"
   ],
   "metadata": {
    "id": "RUQiowxjcc2-",
    "jupyter": {
     "is_executing": true
    },
    "ExecuteTime": {
     "start_time": "2024-12-23T11:05:01.008555Z"
    }
   },
   "outputs": [
    {
     "name": "stdout",
     "output_type": "stream",
     "text": [
      "\n",
      "Entrenando con lr=0.005, batch_size=32, epochs=15\n"
     ]
    }
   ],
   "execution_count": null
  },
  {
   "metadata": {
    "id": "hN4yLaAWe-kD",
    "ExecuteTime": {
     "end_time": "2024-12-22T08:02:36.691863Z",
     "start_time": "2024-12-22T08:02:23.571688Z"
    }
   },
   "cell_type": "code",
   "source": [
    "mejores_resultados = sorted(resultados, key=lambda x: x[3], reverse=True)\n",
    "print(\"Top configuraciones:\")\n",
    "for res in mejores_resultados[:5]:\n",
    "    print(f\"    LR={res[0]}, Batch={res[1]}, Epochs={res[2]}, Exactitud validación={res[3]:.2f}%\")\n",
    "\n",
    "mejor = (mejores_resultados[0][0], mejores_resultados[0][1], mejores_resultados[0][2])\n",
    "modelo = modelos[mejor]\n",
    "exactitud_test = calcular_exactitud_test(modelo, dataloader_test, device)\n",
    "print(f\"\\nExactitud del modelo en el conjunto de test para el conjunto de hiperprámetros LR={mejor[0]}, Batch={mejor[1]}, Epochs={mejor[2]}    : {exactitud_test:.2f}%\")\n",
    "matriz_de_confusion(modelo, dataloader_test, device)"
   ],
   "outputs": [
    {
     "name": "stdout",
     "output_type": "stream",
     "text": [
      "Top configuraciones:\n",
      "    LR=0.0005, Batch=32, Epochs=30, Exactitud validación=88.35%\n",
      "    LR=0.005, Batch=32, Epochs=30, Exactitud validación=87.71%\n",
      "    LR=0.001, Batch=64, Epochs=30, Exactitud validación=87.71%\n",
      "    LR=0.005, Batch=32, Epochs=15, Exactitud validación=87.34%\n",
      "    LR=0.005, Batch=64, Epochs=30, Exactitud validación=87.25%\n",
      "\n",
      "Exactitud del modelo en el conjunto de test para el conjunto de hiperprámetros LR=0.0005, Batch=32, Epochs=30    : 87.20%\n",
      "Reporte de clasificación:\n",
      "              precision    recall  f1-score   support\n",
      "\n",
      "           0     0.9308    0.8121    0.8674       149\n",
      "           1     0.9423    0.9671    0.9545       152\n",
      "           2     0.8483    0.8255    0.8367       149\n",
      "           3     0.8773    0.8266    0.8512       173\n",
      "           4     0.7933    0.9467    0.8632       150\n",
      "           5     0.8500    0.7987    0.8235       149\n",
      "           6     0.8788    0.9295    0.9034       156\n",
      "\n",
      "    accuracy                         0.8720      1078\n",
      "   macro avg     0.8744    0.8723    0.8714      1078\n",
      "weighted avg     0.8746    0.8720    0.8714      1078\n",
      "\n"
     ]
    },
    {
     "data": {
      "text/plain": [
       "<Figure size 1000x800 with 2 Axes>"
      ],
      "image/png": "[encoded data removed]"
     },
     "metadata": {},
     "output_type": "display_data"
    },
    {
     "name": "stdout",
     "output_type": "stream",
     "text": [
      "Clases presentes en el conjunto de test: {np.int64(0), np.int64(1), np.int64(2), np.int64(3), np.int64(4), np.int64(5), np.int64(6)}\n"
     ]
    }
   ],
   "execution_count": 10
  }
 ],
 "metadata": {
  "colab": {
   "provenance": []
  },
  "kernelspec": {
   "display_name": "Python 3 (ipykernel)",
   "name": "python3",
   "language": "python"
  },
  "language_info": {
   "name": "python"
  }
 },
 "nbformat": 4,
 "nbformat_minor": 0
}
